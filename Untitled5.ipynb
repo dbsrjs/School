{
  "nbformat": 4,
  "nbformat_minor": 0,
  "metadata": {
    "colab": {
      "provenance": [],
      "authorship_tag": "ABX9TyP1lFAt+4BPTgyNKKfvUQys",
      "include_colab_link": true
    },
    "kernelspec": {
      "name": "python3",
      "display_name": "Python 3"
    },
    "language_info": {
      "name": "python"
    }
  },
  "cells": [
    {
      "cell_type": "markdown",
      "metadata": {
        "id": "view-in-github",
        "colab_type": "text"
      },
      "source": [
        "<a href=\"https://colab.research.google.com/github/dbsrjs/School/blob/main/Untitled5.ipynb\" target=\"_parent\"><img src=\"https://colab.research.google.com/assets/colab-badge.svg\" alt=\"Open In Colab\"/></a>"
      ]
    },
    {
      "cell_type": "code",
      "execution_count": null,
      "metadata": {
        "id": "O4bsBTxI7_sg"
      },
      "outputs": [],
      "source": [
        "a = int(input(\"input first number : \"))\n",
        "b = input() \n",
        "c = int(input(\"input second number : \")) \n",
        "\n",
        "if b == \"+\": \n",
        "   print(a, \"+\", c, \"=\", a + c )\n",
        "elif b == \"-\":\n",
        "   print(a, \"-\", c, \"=\", a - c) \n",
        "elif b == \"*\":  \n",
        "   print(a, \"*\", c, \"=\", a * c) \n",
        "elif b == \"/\": \n",
        "   print(a, \"/\", c, \"=\", a / c)\n",
        "elif b == \"**\": \n",
        "   print(a, \"**\", c, \"=\", a ** c)\n",
        "elif b == \"//\": \n",
        "   print(a, \"//\", c, \"=\", a // c)\n",
        "else:\n",
        "  print(\"연산자를 잘못 입력했습니다.\")"
      ]
    }
  ]
}