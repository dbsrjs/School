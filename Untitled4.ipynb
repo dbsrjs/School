{
  "nbformat": 4,
  "nbformat_minor": 0,
  "metadata": {
    "colab": {
      "provenance": [],
      "authorship_tag": "ABX9TyMXWp+B2mCD1aVyHF3Fkq0N",
      "include_colab_link": true
    },
    "kernelspec": {
      "name": "python3",
      "display_name": "Python 3"
    },
    "language_info": {
      "name": "python"
    }
  },
  "cells": [
    {
      "cell_type": "markdown",
      "metadata": {
        "id": "view-in-github",
        "colab_type": "text"
      },
      "source": [
        "<a href=\"https://colab.research.google.com/github/dbsrjs/Colab/blob/main/Untitled4.ipynb\" target=\"_parent\"><img src=\"https://colab.research.google.com/assets/colab-badge.svg\" alt=\"Open In Colab\"/></a>"
      ]
    },
    {
      "cell_type": "code",
      "execution_count": null,
      "metadata": {
        "id": "TUuYgm7txaj5"
      },
      "outputs": [],
      "source": [
        "print(\"팅 팅팅팅 탱 탱탱탱 탱탱 후라이팬 놀이!\")\n",
        "for i in range(5):\n",
        "  name = input(\"이름을 입력하세요.\")\n",
        "  num = int(input(\"횟수를 입력하세요.\"))\n",
        "  print(name * num)"
      ]
    },
    {
      "cell_type": "code",
      "source": [
        "a = input('기침?')\n",
        "num = float(input(\"체온 :\"))\n",
        "if a == \"Y\" and num >= 38.5:\n",
        "    print(\"독감일 수 있습니다\")\n",
        "else:\n",
        "  print(\"정상입니다\")"
      ],
      "metadata": {
        "colab": {
          "base_uri": "https://localhost:8080/"
        },
        "id": "DCSGyvjn2GFA",
        "outputId": "c793c535-0294-4f2f-c461-92138df655b8"
      },
      "execution_count": 6,
      "outputs": [
        {
          "output_type": "stream",
          "name": "stdout",
          "text": [
            "기침?N\n",
            "체온 :36\n",
            "정상입니다\n"
          ]
        }
      ]
    },
    {
      "cell_type": "code",
      "source": [
        "kim = (\"야채김밥(2500원)\", \"참치김밥(3500원)\")\n",
        "R = (\"기본라면(3500원)\", \"떡라면(4000원)\", \"만두라면(4000원)\")\n",
        "\n",
        "A = input(\"메뉴 입력\")\n",
        "if A == \"김밥\":\n",
        "  print(kim)\n",
        "elif A == \"라면\":\n",
        "  print(R)\n",
        "else:\n",
        "  print(\"올바른 메뉴를 입력해주세요.\")"
      ],
      "metadata": {
        "colab": {
          "base_uri": "https://localhost:8080/"
        },
        "id": "OlTHyF-06KC2",
        "outputId": "a1f9b199-d3f3-4bbb-ca66-19dce341b8db"
      },
      "execution_count": 14,
      "outputs": [
        {
          "output_type": "stream",
          "name": "stdout",
          "text": [
            "메뉴 입력떡볶이\n",
            "올바른 메뉴를 입력해주세요.\n"
          ]
        }
      ]
    },
    {
      "cell_type": "code",
      "source": [
        "a = input(\"메뉴 입력\")\n",
        "if a == \"김밥\":\n",
        "  print(\"야채김밥(2500원), 참치김밥(3500원)\")\n",
        "elif a == \"라면\":\n",
        "   print(\"기본라면(3500원), 떡라면(4000원), 만두라면(4000원)\")\n",
        "else:\n",
        "  print(\"올바른 메뉴를 입력하세요.\")"
      ],
      "metadata": {
        "id": "zhy47han8XXT"
      },
      "execution_count": null,
      "outputs": []
    }
  ]
}