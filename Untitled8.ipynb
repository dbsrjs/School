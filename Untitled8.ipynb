{
  "nbformat": 4,
  "nbformat_minor": 0,
  "metadata": {
    "colab": {
      "provenance": [],
      "authorship_tag": "ABX9TyPoqeFIbstoK3B/cMCHYrrJ",
      "include_colab_link": true
    },
    "kernelspec": {
      "name": "python3",
      "display_name": "Python 3"
    },
    "language_info": {
      "name": "python"
    }
  },
  "cells": [
    {
      "cell_type": "markdown",
      "metadata": {
        "id": "view-in-github",
        "colab_type": "text"
      },
      "source": [
        "<a href=\"https://colab.research.google.com/github/dbsrjs/School/blob/main/Untitled8.ipynb\" target=\"_parent\"><img src=\"https://colab.research.google.com/assets/colab-badge.svg\" alt=\"Open In Colab\"/></a>"
      ]
    },
    {
      "cell_type": "code",
      "execution_count": null,
      "metadata": {
        "id": "GmOS007jHecu"
      },
      "outputs": [],
      "source": [
        "for i in range(1, 11):\n",
        "  print(i)"
      ]
    },
    {
      "cell_type": "code",
      "source": [
        "family = ['mother', 'father', 'gentleman', 'sexylady']\n",
        "len(family)\n",
        "\n",
        "family.remove('gentleman')\n",
        "family.remove('sexylady')"
      ],
      "metadata": {
        "colab": {
          "base_uri": "https://localhost:8080/"
        },
        "id": "98cXsqN8IBoR",
        "outputId": "2dee7d8f-b98c-425e-fbd2-692a21f25419"
      },
      "execution_count": 4,
      "outputs": [
        {
          "output_type": "execute_result",
          "data": {
            "text/plain": [
              "4"
            ]
          },
          "metadata": {},
          "execution_count": 4
        }
      ]
    },
    {
      "cell_type": "code",
      "source": [
        "a = int(input())\n",
        "b = 1\n",
        "while b <= a:\n",
        "  print(b*b)\n",
        "  b += 1\n"
      ],
      "metadata": {
        "id": "2ttCUQLPJmf6"
      },
      "execution_count": null,
      "outputs": []
    },
    {
      "cell_type": "code",
      "source": [
        "i = 1\n",
        "while i <= 100:\n",
        "  if i % 8 == 0 and i % 12 != 0:\n",
        "    print(i)\n",
        "  i += 1"
      ],
      "metadata": {
        "id": "4gENZTD_MMqr"
      },
      "execution_count": null,
      "outputs": []
    },
    {
      "cell_type": "code",
      "source": [
        "import random\n",
        "rand = random.randrange(1, 101, 1)\n",
        "i = 1\n",
        "\n",
        "while a != rand:\n",
        "  a = int(input('값을 입력해주세요'))\n",
        "\n",
        "  if a > rand:\n",
        "    print(\"down\")\n",
        "    i += 1\n",
        "\n",
        "    \n",
        "  if a< rand:\n",
        "    print(\"up\")\n",
        "    i += 1\n",
        "print(\"성공\")\n",
        "print(\"도전 횟수 : \", i)"
      ],
      "metadata": {
        "id": "ZuYn3nhqQkBe"
      },
      "execution_count": null,
      "outputs": []
    }
  ]
}